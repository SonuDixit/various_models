{
 "cells": [
  {
   "cell_type": "code",
   "execution_count": 23,
   "metadata": {},
   "outputs": [
    {
     "name": "stdout",
     "output_type": "stream",
     "text": [
      "4\n"
     ]
    }
   ],
   "source": [
    "class A:\n",
    "    def __init__(self):\n",
    "        #self.x=5\n",
    "        #print(self.x)\n",
    "        pass\n",
    "    x=4\n",
    "class B(A):\n",
    "    def __init__(self):\n",
    "        super().__init__()\n",
    "class c(B):\n",
    "    def __init__(self):\n",
    "        #super().__init__()\n",
    "        pass\n",
    "cd =c()\n",
    "print(B().x)"
   ]
  },
  {
   "cell_type": "code",
   "execution_count": 20,
   "metadata": {},
   "outputs": [
    {
     "name": "stdout",
     "output_type": "stream",
     "text": [
      "passed\n",
      "passed\n",
      "out\n"
     ]
    }
   ],
   "source": [
    "i=2\n",
    "while i<4:\n",
    "    pass\n",
    "    i+=1\n",
    "    print(\"passed\")\n",
    "print(\"out\")"
   ]
  },
  {
   "cell_type": "code",
   "execution_count": null,
   "metadata": {},
   "outputs": [],
   "source": []
  }
 ],
 "metadata": {
  "kernelspec": {
   "display_name": "Python 3",
   "language": "python",
   "name": "python3"
  },
  "language_info": {
   "codemirror_mode": {
    "name": "ipython",
    "version": 3
   },
   "file_extension": ".py",
   "mimetype": "text/x-python",
   "name": "python",
   "nbconvert_exporter": "python",
   "pygments_lexer": "ipython3",
   "version": "3.6.5"
  }
 },
 "nbformat": 4,
 "nbformat_minor": 2
}
