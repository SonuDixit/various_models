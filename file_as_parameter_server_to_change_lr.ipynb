{
 "cells": [
  {
   "cell_type": "code",
   "execution_count": 1,
   "metadata": {},
   "outputs": [
    {
     "name": "stdout",
     "output_type": "stream",
     "text": [
      "False\n",
      "1.12.0\n",
      "_________________________________________________________________\n",
      "Layer (type)                 Output Shape              Param #   \n",
      "=================================================================\n",
      "flatten (Flatten)            (None, 4)                 0         \n",
      "_________________________________________________________________\n",
      "dense (Dense)                (None, 8)                 40        \n",
      "_________________________________________________________________\n",
      "dense_1 (Dense)              (None, 3)                 27        \n",
      "=================================================================\n",
      "Total params: 67\n",
      "Trainable params: 67\n",
      "Non-trainable params: 0\n",
      "_________________________________________________________________\n"
     ]
    },
    {
     "name": "stderr",
     "output_type": "stream",
     "text": [
      "Using TensorFlow backend.\n"
     ]
    }
   ],
   "source": [
    "import tensorflow as tf\n",
    "# tf.enable_eager_execution()\n",
    "print(tf.executing_eagerly()) \n",
    "from tensorflow import keras\n",
    "# Helper libraries\n",
    "import numpy as np\n",
    "import matplotlib.pyplot as plt\n",
    "import time\n",
    "from keras.optimizers import Adam\n",
    "print(tf.__version__)\n",
    "\n",
    "model1 = keras.Sequential([\n",
    "    keras.layers.Flatten(input_shape=(2, 2)),\n",
    "    keras.layers.Dense(8, activation=tf.nn.relu),\n",
    "    keras.layers.Dense(3, activation=tf.nn.softmax)\n",
    "])\n",
    "\n",
    "model1.summary()"
   ]
  },
  {
   "cell_type": "code",
   "execution_count": 2,
   "metadata": {},
   "outputs": [
    {
     "data": {
      "text/plain": [
       "0.01"
      ]
     },
     "execution_count": 2,
     "metadata": {},
     "output_type": "execute_result"
    }
   ],
   "source": [
    "f = open(\"params.txt\",'r')\n",
    "lr=f.readline()\n",
    "lr\n",
    "type(lr)\n",
    "float(lr)"
   ]
  },
  {
   "cell_type": "code",
   "execution_count": 3,
   "metadata": {},
   "outputs": [],
   "source": [
    "inp_1 = np.asarray([[[1,2],[3,4]],\n",
    "                   [[2,1],[5,6]]])\n",
    "inp_1  = np.random.normal(size=(3,2,2))\n",
    "op1 = np.asarray([[1],[0],[0]])"
   ]
  },
  {
   "cell_type": "markdown",
   "metadata": {},
   "source": [
    "## here optimizers and learning rate can be changed.\n",
    "## model.compile does it. \n",
    "# params can be read from file params.txt\n",
    "# just change in the file when need to change the parameter values."
   ]
  },
  {
   "cell_type": "code",
   "execution_count": 15,
   "metadata": {},
   "outputs": [
    {
     "name": "stdout",
     "output_type": "stream",
     "text": [
      "lr is: 0.0001\n",
      "Epoch 1/1\n",
      "3/3 [==============================] - 1s 243ms/step - loss: 0.8674 - acc: 0.3333\n",
      "<tensorflow.python.keras.optimizers.SGD object at 0x00000000440CA630>\n",
      "lr is: 0.0001\n",
      "Epoch 1/1\n",
      "3/3 [==============================] - 1s 248ms/step - loss: 0.8633 - acc: 0.3333\n",
      "<tensorflow.python.keras.optimizers.RMSprop object at 0x00000000440CA668>\n",
      "lr is: 0.0001\n",
      "Epoch 1/1\n",
      "3/3 [==============================] - 1s 250ms/step - loss: 0.8531 - acc: 0.3333\n",
      "<tensorflow.python.keras.optimizers.SGD object at 0x00000000440CA630>\n",
      "lr is: 0.0001\n",
      "Epoch 1/1\n",
      "3/3 [==============================] - 1s 262ms/step - loss: 0.8492 - acc: 0.3333\n",
      "<tensorflow.python.keras.optimizers.RMSprop object at 0x00000000440CA668>\n",
      "lr is: 0.0001\n",
      "Epoch 1/1\n",
      "3/3 [==============================] - 1s 262ms/step - loss: 0.8392 - acc: 0.3333\n",
      "<tensorflow.python.keras.optimizers.SGD object at 0x00000000440CA630>\n",
      "lr is: 0.0001\n",
      "Epoch 1/1\n",
      "3/3 [==============================] - 1s 273ms/step - loss: 0.8354 - acc: 0.3333\n",
      "<tensorflow.python.keras.optimizers.RMSprop object at 0x00000000440CA668>\n",
      "lr is: 0.0001\n",
      "Epoch 1/1\n",
      "3/3 [==============================] - 1s 274ms/step - loss: 0.8256 - acc: 0.3333\n",
      "<tensorflow.python.keras.optimizers.SGD object at 0x00000000440CA630>\n",
      "lr is: 0.0001\n",
      "Epoch 1/1\n",
      "3/3 [==============================] - 1s 285ms/step - loss: 0.8219 - acc: 0.3333\n",
      "<tensorflow.python.keras.optimizers.RMSprop object at 0x00000000440CA668>\n",
      "lr is: 0.0001\n",
      "Epoch 1/1\n",
      "3/3 [==============================] - 1s 286ms/step - loss: 0.8132 - acc: 0.3333\n",
      "<tensorflow.python.keras.optimizers.SGD object at 0x00000000440CA630>\n",
      "lr is: 0.0001\n",
      "Epoch 1/1\n",
      "3/3 [==============================] - 1s 297ms/step - loss: 0.8098 - acc: 0.3333\n",
      "<tensorflow.python.keras.optimizers.RMSprop object at 0x00000000440CA668>\n"
     ]
    }
   ],
   "source": [
    "epochs = 10\n",
    "opts = [keras.optimizers.SGD(lr=0.01, momentum=0.0, decay=0.0, nesterov=False)]\n",
    "opts.append(keras.optimizers.RMSprop(lr=0.001, rho=0.9, epsilon=None, decay=0.0))\n",
    "for i in range(epochs):\n",
    "    f = open(\"params.txt\",'r')\n",
    "    lr = f.readline()\n",
    "    f.close()\n",
    "    print(\"lr is:\",lr)\n",
    "    model1.compile(optimizer=opts[i%2], \n",
    "              loss='sparse_categorical_crossentropy',\n",
    "              metrics=['accuracy'])\n",
    "    model1.fit(inp_1,op1,epochs=1)\n",
    "#     print(eval(model1.optimizer))\n",
    "    print(model1.optimizer)\n",
    "    time.sleep(2)"
   ]
  },
  {
   "cell_type": "code",
   "execution_count": 7,
   "metadata": {},
   "outputs": [],
   "source": [
    "model1.compile(optimizer=tf.train.AdamOptimizer(learning_rate=0.001), \n",
    "              loss='sparse_categorical_crossentropy',\n",
    "              metrics=['accuracy'])"
   ]
  },
  {
   "cell_type": "code",
   "execution_count": 10,
   "metadata": {},
   "outputs": [
    {
     "ename": "AttributeError",
     "evalue": "'AdamOptimizer' object has no attribute 'learning_rate'",
     "output_type": "error",
     "traceback": [
      "\u001b[1;31m---------------------------------------------------------------------------\u001b[0m",
      "\u001b[1;31mAttributeError\u001b[0m                            Traceback (most recent call last)",
      "\u001b[1;32m<ipython-input-10-32673a4e8bd2>\u001b[0m in \u001b[0;36m<module>\u001b[1;34m()\u001b[0m\n\u001b[1;32m----> 1\u001b[1;33m \u001b[0mmodel1\u001b[0m\u001b[1;33m.\u001b[0m\u001b[0moptimizer\u001b[0m\u001b[1;33m.\u001b[0m\u001b[0moptimizer\u001b[0m\u001b[1;33m.\u001b[0m\u001b[0mlearning_rate\u001b[0m\u001b[1;33m(\u001b[0m\u001b[1;33m)\u001b[0m\u001b[1;33m\u001b[0m\u001b[0m\n\u001b[0m",
      "\u001b[1;31mAttributeError\u001b[0m: 'AdamOptimizer' object has no attribute 'learning_rate'"
     ]
    }
   ],
   "source": [
    "model1.optimizer.optimizer.learning_rate()"
   ]
  },
  {
   "cell_type": "code",
   "execution_count": null,
   "metadata": {},
   "outputs": [],
   "source": [
    "inp_1 = np.asarray([[[1,2],[3,4]],\n",
    "                   [[2,1],[5,6]]])\n",
    "inp_1  = np.random.normal(size=(3,2,2))"
   ]
  },
  {
   "cell_type": "code",
   "execution_count": null,
   "metadata": {},
   "outputs": [],
   "source": [
    "model1.fit(inp_1,op1,epochs=2)"
   ]
  }
 ],
 "metadata": {
  "kernelspec": {
   "display_name": "Python 3",
   "language": "python",
   "name": "python3"
  },
  "language_info": {
   "codemirror_mode": {
    "name": "ipython",
    "version": 3
   },
   "file_extension": ".py",
   "mimetype": "text/x-python",
   "name": "python",
   "nbconvert_exporter": "python",
   "pygments_lexer": "ipython3",
   "version": "3.6.5"
  }
 },
 "nbformat": 4,
 "nbformat_minor": 2
}
