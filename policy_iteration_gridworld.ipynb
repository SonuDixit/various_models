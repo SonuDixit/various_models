{
 "cells": [
  {
   "cell_type": "code",
   "execution_count": 1,
   "metadata": {},
   "outputs": [],
   "source": [
    "import numpy as np"
   ]
  },
  {
   "cell_type": "code",
   "execution_count": 2,
   "metadata": {},
   "outputs": [],
   "source": [
    "grid_shape = (4,4)"
   ]
  },
  {
   "cell_type": "code",
   "execution_count": 4,
   "metadata": {},
   "outputs": [],
   "source": [
    "def is_feasible(i,j,move=\"left\"):\n",
    "    if move == \"left\":\n",
    "        if i-1 >= 0:\n",
    "            return True\n",
    "        else:\n",
    "            return False\n",
    "    elif move == \"right\":\n",
    "        if i+1 <= 3:\n",
    "            return True\n",
    "        else:\n",
    "            return False\n",
    "    elif move == \"up\":\n",
    "        if j+1 <= 3:\n",
    "            return True\n",
    "        else:\n",
    "            return False\n",
    "    elif move == \"down\":\n",
    "        if j-1 >= 0:\n",
    "            return True\n",
    "        else:\n",
    "            return False\n",
    "    else:\n",
    "        print(\"error\")"
   ]
  },
  {
   "cell_type": "code",
   "execution_count": 5,
   "metadata": {},
   "outputs": [],
   "source": [
    "def get_next_state(i,j,move=\"left\"):\n",
    "    if is_feasible(i,j,move):\n",
    "        if move ==\"left\":\n",
    "            return i-1,j\n",
    "        if move == \"right\":\n",
    "            return i+1,j\n",
    "        if move == \"up\":\n",
    "            return i, j+1\n",
    "        if move == \"down\":\n",
    "            return i,j-1\n",
    "    else:\n",
    "        return i,j"
   ]
  },
  {
   "cell_type": "code",
   "execution_count": 20,
   "metadata": {},
   "outputs": [],
   "source": [
    "def get_rew(i,j,move):\n",
    "    i,j = get_next_state(i,j,move)\n",
    "    if (i,j) == (3,3):\n",
    "        return 1\n",
    "    else:\n",
    "        return -1"
   ]
  },
  {
   "cell_type": "code",
   "execution_count": 34,
   "metadata": {},
   "outputs": [],
   "source": [
    "def get_policy_greedy(vals,i,j):\n",
    "    if (i,j) == (3,3):\n",
    "        print(i,j)\n",
    "        return \"terminal state\"\n",
    "    default = {\"left\":.25,\n",
    "               \"right\":.25,\n",
    "               \"up\" : .25,\n",
    "               \"down\" : .25\n",
    "              }\n",
    "    v_left = vals[get_next_state(i,j,\"left\")]\n",
    "    v_right = vals[get_next_state(i,j,\"right\")]\n",
    "    v_up = vals[get_next_state(i,j,\"up\")]\n",
    "    v_down = vals[get_next_state(i,j,\"down\")]\n",
    "    max_val = max(v_left,v_right,v_up,v_down)\n",
    "    \n",
    "    #normalize and update default dict\n",
    "    a = [v_left , v_right , v_up , v_down]\n",
    "    c = a.count(max_val)\n",
    "    if v_left==max_val:\n",
    "        default[\"left\"] = 1/c\n",
    "    else:\n",
    "        default[\"left\"] = 0\n",
    "    if v_right == max_val:\n",
    "        default[\"right\"] = 1/c\n",
    "    else:\n",
    "        default[\"right\"] = 0\n",
    "    if v_up==max_val:\n",
    "        default[\"up\"] = 1/c\n",
    "    else:\n",
    "        default[\"up\"] = 0\n",
    "    if v_down==max_val:\n",
    "        default[\"down\"] = 1/c\n",
    "    else:\n",
    "        default[\"down\"] = 0\n",
    "    \n",
    "    return default"
   ]
  },
  {
   "cell_type": "code",
   "execution_count": 40,
   "metadata": {},
   "outputs": [
    {
     "name": "stdout",
     "output_type": "stream",
     "text": [
      "[[0. 0. 0. 0.]\n",
      " [0. 0. 0. 0.]\n",
      " [0. 0. 0. 0.]\n",
      " [0. 0. 0. 0.]]\n",
      "[[-1.  -1.  -1.  -1. ]\n",
      " [-1.  -1.  -1.  -1. ]\n",
      " [-1.  -1.  -1.  -0.5]\n",
      " [-1.  -1.  -0.5  1. ]]\n",
      "[[-2.  -2.  -2.  -2. ]\n",
      " [-2.  -2.  -2.  -1.5]\n",
      " [-2.  -2.  -1.5  2. ]\n",
      " [-2.  -1.5  2.   1. ]]\n",
      "[[-3.  -3.  -3.  -2.5]\n",
      " [-3.  -3.  -2.5  1. ]\n",
      " [-3.  -2.5  1.   1. ]\n",
      " [-2.5  1.   1.   1. ]]\n",
      "[[-4.  -4.  -3.5  0. ]\n",
      " [-4.  -3.5  0.   0. ]\n",
      " [-3.5  0.   0.   0.5]\n",
      " [ 0.   0.   0.5  1. ]]\n",
      "[[-5.  -4.5 -1.  -1. ]\n",
      " [-4.5 -1.  -1.  -0.5]\n",
      " [-1.  -1.  -0.5  2. ]\n",
      " [-1.  -0.5  2.   1. ]]\n",
      "[[-5.5 -2.  -2.  -1.5]\n",
      " [-2.  -2.  -1.5  1. ]\n",
      " [-2.  -1.5  1.   1. ]\n",
      " [-1.5  1.   1.   1. ]]\n",
      "[[-3.  -3.  -2.5  0. ]\n",
      " [-3.  -2.5  0.   0. ]\n",
      " [-2.5  0.   0.   0.5]\n",
      " [ 0.   0.   0.5  1. ]]\n",
      "[[-4.  -3.5 -1.  -1. ]\n",
      " [-3.5 -1.  -1.  -0.5]\n",
      " [-1.  -1.  -0.5  2. ]\n",
      " [-1.  -0.5  2.   1. ]]\n",
      "[[-4.5 -2.  -2.  -1.5]\n",
      " [-2.  -2.  -1.5  1. ]\n",
      " [-2.  -1.5  1.   1. ]\n",
      " [-1.5  1.   1.   1. ]]\n",
      "[[-3.  -3.  -2.5  0. ]\n",
      " [-3.  -2.5  0.   0. ]\n",
      " [-2.5  0.   0.   0.5]\n",
      " [ 0.   0.   0.5  1. ]]\n",
      "[[-4.  -3.5 -1.  -1. ]\n",
      " [-3.5 -1.  -1.  -0.5]\n",
      " [-1.  -1.  -0.5  2. ]\n",
      " [-1.  -0.5  2.   1. ]]\n",
      "[[-4.5 -2.  -2.  -1.5]\n",
      " [-2.  -2.  -1.5  1. ]\n",
      " [-2.  -1.5  1.   1. ]\n",
      " [-1.5  1.   1.   1. ]]\n",
      "[[-3.  -3.  -2.5  0. ]\n",
      " [-3.  -2.5  0.   0. ]\n",
      " [-2.5  0.   0.   0.5]\n",
      " [ 0.   0.   0.5  1. ]]\n",
      "[[-4.  -3.5 -1.  -1. ]\n",
      " [-3.5 -1.  -1.  -0.5]\n",
      " [-1.  -1.  -0.5  2. ]\n",
      " [-1.  -0.5  2.   1. ]]\n",
      "[[-4.5 -2.  -2.  -1.5]\n",
      " [-2.  -2.  -1.5  1. ]\n",
      " [-2.  -1.5  1.   1. ]\n",
      " [-1.5  1.   1.   1. ]]\n",
      "[[-3.  -3.  -2.5  0. ]\n",
      " [-3.  -2.5  0.   0. ]\n",
      " [-2.5  0.   0.   0.5]\n",
      " [ 0.   0.   0.5  1. ]]\n",
      "[[-4.  -3.5 -1.  -1. ]\n",
      " [-3.5 -1.  -1.  -0.5]\n",
      " [-1.  -1.  -0.5  2. ]\n",
      " [-1.  -0.5  2.   1. ]]\n",
      "[[-4.5 -2.  -2.  -1.5]\n",
      " [-2.  -2.  -1.5  1. ]\n",
      " [-2.  -1.5  1.   1. ]\n",
      " [-1.5  1.   1.   1. ]]\n",
      "[[-3.  -3.  -2.5  0. ]\n",
      " [-3.  -2.5  0.   0. ]\n",
      " [-2.5  0.   0.   0.5]\n",
      " [ 0.   0.   0.5  1. ]]\n"
     ]
    }
   ],
   "source": [
    "vals = np.zeros(grid_shape)\n",
    "for e in range(20):\n",
    "    print(vals)\n",
    "    new_val = np.zeros(grid_shape)\n",
    "    if e == 0:\n",
    "        for i in range(grid_shape[0]):\n",
    "            for j in range(grid_shape[1]):\n",
    "                new_val[i,j] = .25*(vals[get_next_state(i,j,\"left\")] + get_rew(i,j,\"left\")) +\\\n",
    "                .25*(vals[get_next_state(i,j,\"right\")]+ get_rew(i,j,\"right\")) +\\\n",
    "                .25*(vals[get_next_state(i,j,\"up\")] + get_rew(i,j,\"up\")) +\\\n",
    "                .25*(vals[get_next_state(i,j,\"down\")] + get_rew(i,j,\"down\"))\n",
    "    else:\n",
    "        \n",
    "        for i in range(grid_shape[0]):\n",
    "            for j in range(grid_shape[1]):\n",
    "                if (i==3 and j ==3):\n",
    "                    pass\n",
    "                else:\n",
    "                    policy = get_policy_greedy(vals,i,j)\n",
    "                    new_val[i,j] = policy[\"left\"]*(vals[get_next_state(i,j,\"left\")] + get_rew(i,j,\"left\")) +\\\n",
    "                                   policy[\"right\"]*(vals[get_next_state(i,j,\"right\")]+ get_rew(i,j,\"right\")) +\\\n",
    "                                   policy[\"up\"]*(vals[get_next_state(i,j,\"up\")] + get_rew(i,j,\"up\")) +\\\n",
    "                                   policy[\"down\"]*(vals[get_next_state(i,j,\"down\")] + get_rew(i,j,\"down\"))\n",
    "    new_val[3,3] = 1\n",
    "    vals = new_val"
   ]
  },
  {
   "cell_type": "code",
   "execution_count": 24,
   "metadata": {},
   "outputs": [],
   "source": [
    "u = {\"h\":1}"
   ]
  },
  {
   "cell_type": "code",
   "execution_count": 25,
   "metadata": {},
   "outputs": [
    {
     "data": {
      "text/plain": [
       "1"
      ]
     },
     "execution_count": 25,
     "metadata": {},
     "output_type": "execute_result"
    }
   ],
   "source": [
    "u[\"h\"]"
   ]
  },
  {
   "cell_type": "code",
   "execution_count": 32,
   "metadata": {},
   "outputs": [
    {
     "name": "stdout",
     "output_type": "stream",
     "text": [
      "False\n"
     ]
    }
   ],
   "source": [
    "print((2,3) == (1,3))"
   ]
  },
  {
   "cell_type": "code",
   "execution_count": null,
   "metadata": {},
   "outputs": [],
   "source": []
  }
 ],
 "metadata": {
  "kernelspec": {
   "display_name": "Python 3",
   "language": "python",
   "name": "python3"
  },
  "language_info": {
   "codemirror_mode": {
    "name": "ipython",
    "version": 3
   },
   "file_extension": ".py",
   "mimetype": "text/x-python",
   "name": "python",
   "nbconvert_exporter": "python",
   "pygments_lexer": "ipython3",
   "version": "3.6.5"
  }
 },
 "nbformat": 4,
 "nbformat_minor": 2
}
