{
 "cells": [
  {
   "cell_type": "code",
   "execution_count": 22,
   "metadata": {},
   "outputs": [],
   "source": [
    "import tensorflow as tf\n",
    "tf.enable_eager_execution\n",
    "from tensorflow import keras\n",
    "from tensorflow.keras import layers,Sequential\n",
    "import numpy as np\n",
    "\n",
    "###creation of layers and model\n",
    "##batch_input_shape=(numberofSequence,timesteps,data_dim)\n",
    "l1 = layers.LSTM(units=20,return_sequences=True,batch_input_shape=(None,3,5))\n",
    "l2 = layers.LSTM(units=12,return_sequences=True)\n",
    "l3 = layers.Dense(2,activation='softmax')\n",
    "l4 = layers.Dense(1)"
   ]
  },
  {
   "cell_type": "code",
   "execution_count": 23,
   "metadata": {},
   "outputs": [],
   "source": [
    "### helper functions\n",
    "def cal_discounted_rew(rew, disc_factor = 0.9):\n",
    "    for i in range(rew.shape[0]-2,-1,-1):\n",
    "        rew[i] += disc_factor *rew[i+1]\n",
    "    return rew\n",
    "\n",
    "def cal_advantage(reward_array, state_array,critic,disc_factor=0.9):\n",
    "    ###parametrize it for generalized advantage estimation\n",
    "    values_of_states = critic.predict(state_array)\n",
    "    print(\"ok1\")\n",
    "    ###reshape this array values_of_states\n",
    "    values_of_states = values_of_states.reshape((values_of_states.shape[1],))\n",
    "    reward_array = cal_discounted_rew(reward_array,disc_factor)    \n",
    "    print(\"ok2\")\n",
    "    advantage_array = np.zeros(reward_array.shape)\n",
    "    advantage_array = reward_array - values_of_states\n",
    "    print(\"ok3\")\n",
    "    return advantage_array"
   ]
  },
  {
   "cell_type": "code",
   "execution_count": 24,
   "metadata": {},
   "outputs": [
    {
     "name": "stdout",
     "output_type": "stream",
     "text": [
      "_________________________________________________________________\n",
      "Layer (type)                 Output Shape              Param #   \n",
      "=================================================================\n",
      "lstm_4 (LSTM)                (None, 3, 20)             2080      \n",
      "_________________________________________________________________\n",
      "lstm_5 (LSTM)                (None, 3, 12)             1584      \n",
      "_________________________________________________________________\n",
      "dense_5 (Dense)              (None, 3, 1)              13        \n",
      "=================================================================\n",
      "Total params: 3,677\n",
      "Trainable params: 3,677\n",
      "Non-trainable params: 0\n",
      "_________________________________________________________________\n",
      "_________________________________________________________________\n",
      "Layer (type)                 Output Shape              Param #   \n",
      "=================================================================\n",
      "lstm_4 (LSTM)                (None, 3, 20)             2080      \n",
      "_________________________________________________________________\n",
      "lstm_5 (LSTM)                (None, 3, 12)             1584      \n",
      "_________________________________________________________________\n",
      "dense_4 (Dense)              (None, 3, 2)              26        \n",
      "=================================================================\n",
      "Total params: 3,690\n",
      "Trainable params: 3,690\n",
      "Non-trainable params: 0\n",
      "_________________________________________________________________\n"
     ]
    }
   ],
   "source": [
    "Actor= Sequential([l1,l2,l3])\n",
    "critic = Sequential([l1,l2,l4])\n",
    "critic.compile(loss='mse',optimizer='sgd')\n",
    "critic.summary()\n",
    "Actor.summary()"
   ]
  },
  {
   "cell_type": "code",
   "execution_count": 25,
   "metadata": {},
   "outputs": [],
   "source": [
    "seq_len = 3\n",
    "state_size=5\n",
    "shape_states=(1,seq_len,state_size)\n",
    "shape_rew = (1,seq_len,1)\n",
    "in_data =np.random.normal(1,2,shape_states)\n",
    "y = np.random.normal(1,0,shape_rew)\n",
    "\n",
    "y = cal_discounted_rew(y.reshape((seq_len,)))\n",
    "y = y.reshape(shape_rew)"
   ]
  },
  {
   "cell_type": "code",
   "execution_count": 26,
   "metadata": {},
   "outputs": [
    {
     "name": "stdout",
     "output_type": "stream",
     "text": [
      "Epoch 1/1\n",
      "1/1 [==============================] - 1s 1s/step - loss: 3.9364\n"
     ]
    },
    {
     "data": {
      "text/plain": [
       "<tensorflow.python.keras.callbacks.History at 0x1ad3f748>"
      ]
     },
     "execution_count": 26,
     "metadata": {},
     "output_type": "execute_result"
    }
   ],
   "source": [
    "critic.fit(x=in_data,y=y)"
   ]
  },
  {
   "cell_type": "code",
   "execution_count": 49,
   "metadata": {},
   "outputs": [],
   "source": [
    "def mult_loss_by_advantage(y_true,y_pred,advantage):\n",
    "    ###change size of advantage compatible to y_pred\n",
    "    #then multiply\n",
    "    seq_len=3\n",
    "    action_size = 2\n",
    "    advantage = advantage.reshape((seq_len,1))\n",
    "    temp = np.ones((1,action_size))\n",
    "    advantage = np.matmul(advantage,temp)\n",
    "    print(\"multiplication done\")\n",
    "    advantage = advantage.reshape((1,seq_len,action_size))\n",
    "    loss1 = (tf.log(y_pred)) * (advantage)\n",
    "    print(loss1)\n",
    "    return np.sum(loss1)\n",
    "\n",
    "def actor_loss(advantage):\n",
    "    #y_act is a one hot vector, actual action that was taken\n",
    "    #y_pred is softmax output from actor model\n",
    "    def my_fun(y_true,y_pred):\n",
    "        return mult_loss_by_advantage(y_true,y_pred,advantage)\n",
    "    return my_fun"
   ]
  },
  {
   "cell_type": "code",
   "execution_count": 50,
   "metadata": {},
   "outputs": [
    {
     "name": "stdout",
     "output_type": "stream",
     "text": [
      "[[[0.04892085]\n",
      "  [0.06274211]\n",
      "  [0.07400935]]]\n",
      "ok1\n",
      "ok2\n",
      "ok3\n",
      "multiplication done\n",
      "Tensor(\"loss_13/dense_4_loss/mul:0\", shape=(?, 3, 2), dtype=float32)\n"
     ]
    }
   ],
   "source": [
    "print(critic.predict(in_data))\n",
    "advantage = cal_advantage(y.reshape((seq_len,)),in_data,critic)\n",
    "loss_fn = actor_loss(advantage)\n",
    "Actor.compile(loss =loss_fn,optimizer='sgd' )"
   ]
  },
  {
   "cell_type": "code",
   "execution_count": 51,
   "metadata": {},
   "outputs": [
    {
     "name": "stdout",
     "output_type": "stream",
     "text": [
      "Epoch 1/4\n",
      "1/1 [==============================] - 2s 2s/step - loss: -10.7209\n",
      "Epoch 2/4\n",
      "1/1 [==============================] - 0s 0us/step - loss: -10.7220\n",
      "Epoch 3/4\n",
      "1/1 [==============================] - 0s 19ms/step - loss: -10.7232\n",
      "Epoch 4/4\n",
      "1/1 [==============================] - 0s 5ms/step - loss: -10.7247\n"
     ]
    }
   ],
   "source": [
    "y_true = np.asarray([1,0,0,1,0,1])\n",
    "y_true = y_true.reshape((1,3,2))\n",
    "history = Actor.fit(in_data,y_true,epochs=4)"
   ]
  },
  {
   "cell_type": "code",
   "execution_count": 52,
   "metadata": {},
   "outputs": [
    {
     "data": {
      "text/plain": [
       "dict_values([[-10.720915794372559, -10.721985816955566, -10.72324275970459, -10.72472095489502]])"
      ]
     },
     "execution_count": 52,
     "metadata": {},
     "output_type": "execute_result"
    }
   ],
   "source": [
    "history.history.values()"
   ]
  },
  {
   "cell_type": "code",
   "execution_count": null,
   "metadata": {},
   "outputs": [],
   "source": []
  }
 ],
 "metadata": {
  "kernelspec": {
   "display_name": "Python 3",
   "language": "python",
   "name": "python3"
  },
  "language_info": {
   "codemirror_mode": {
    "name": "ipython",
    "version": 3
   },
   "file_extension": ".py",
   "mimetype": "text/x-python",
   "name": "python",
   "nbconvert_exporter": "python",
   "pygments_lexer": "ipython3",
   "version": "3.6.5"
  }
 },
 "nbformat": 4,
 "nbformat_minor": 2
}
